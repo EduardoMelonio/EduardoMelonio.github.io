{
  "nbformat": 4,
  "nbformat_minor": 0,
  "metadata": {
    "colab": {
      "provenance": [],
      "authorship_tag": "ABX9TyNGkrg4KiQADkyOXHBoOaZb",
      "include_colab_link": true
    },
    "kernelspec": {
      "name": "python3",
      "display_name": "Python 3"
    },
    "language_info": {
      "name": "python"
    }
  },
  "cells": [
    {
      "cell_type": "markdown",
      "metadata": {
        "id": "view-in-github",
        "colab_type": "text"
      },
      "source": [
        "<a href=\"https://colab.research.google.com/github/EduardoMelonio/EduardoMelonio.github.io/blob/main/Section_2_101.ipynb\" target=\"_parent\"><img src=\"https://colab.research.google.com/assets/colab-badge.svg\" alt=\"Open In Colab\"/></a>"
      ]
    },
    {
      "cell_type": "code",
      "execution_count": null,
      "metadata": {
        "colab": {
          "base_uri": "https://localhost:8080/"
        },
        "id": "6j7jWFkqPZpf",
        "outputId": "3023d77b-00eb-4c0a-976c-2db51efe3afd"
      },
      "outputs": [
        {
          "output_type": "stream",
          "name": "stdout",
          "text": [
            "your score is = 0, your height is 1.8. You are winning isTrue.\n"
          ]
        }
      ],
      "source": [
        "score = 0\n",
        "hight = 1.8\n",
        "is_winning =True\n",
        "\n",
        "print(f\"your score is = {score}, your height is {hight}. You are winning is{is_winning}.\")"
      ]
    },
    {
      "cell_type": "code",
      "source": [
        "print(6 + 4 / 2 - (1 * 2))"
      ],
      "metadata": {
        "colab": {
          "base_uri": "https://localhost:8080/"
        },
        "id": "_UsbCFSvQYrA",
        "outputId": "663d5e91-3e34-4694-daaa-655ea95b07c5"
      },
      "execution_count": null,
      "outputs": [
        {
          "output_type": "stream",
          "name": "stdout",
          "text": [
            "6.0\n"
          ]
        }
      ]
    },
    {
      "cell_type": "code",
      "source": [
        "a = int(\"5\") / int(2.7)\n",
        "print(a)\n",
        "type(a)"
      ],
      "metadata": {
        "colab": {
          "base_uri": "https://localhost:8080/"
        },
        "id": "erOCjMYrQ-qW",
        "outputId": "6b811763-64bb-4b76-9a96-83c660e28b92"
      },
      "execution_count": null,
      "outputs": [
        {
          "output_type": "stream",
          "name": "stdout",
          "text": [
            "2.5\n"
          ]
        },
        {
          "output_type": "execute_result",
          "data": {
            "text/plain": [
              "float"
            ]
          },
          "metadata": {},
          "execution_count": 9
        }
      ]
    },
    {
      "cell_type": "markdown",
      "source": [
        "**Day 2 Project : Tip Calculator**"
      ],
      "metadata": {
        "id": "UGBwMwslRs6A"
      }
    },
    {
      "cell_type": "code",
      "source": [
        "print('Welcome to the tip calculator!')\n",
        "bill = float(input('Whats was teh total bill?: '))\n",
        "tip = int(input('How much tip wuld you like to give?: '))\n",
        "people = int(input('How many people to split the bill?: '))\n",
        "tip_as_percent = tip / 100\n",
        "total_tip_amount = bill * tip_as_percent\n",
        "total_bill = bill + total_tip_amount\n",
        "bill_per_person = total_bill / people\n",
        "final_amount = round(bill_per_person, 2)\n",
        "print(f'Each person should pay: ${final_amount}')"
      ],
      "metadata": {
        "id": "Mb_plHl4R11w",
        "colab": {
          "base_uri": "https://localhost:8080/"
        },
        "outputId": "97050fdf-8e7a-4412-f9c7-8f8b10e0e5c4"
      },
      "execution_count": 1,
      "outputs": [
        {
          "output_type": "stream",
          "name": "stdout",
          "text": [
            "Welcome to the tip calculator!\n",
            "Whats was teh total bill?: 250\n",
            "How much tip wuld you like to give?: 5\n",
            "How many people to split the bill?: 6\n",
            "Each person should pay: $43.75\n"
          ]
        }
      ]
    }
  ]
}